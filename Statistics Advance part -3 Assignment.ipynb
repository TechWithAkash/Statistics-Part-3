{
 "cells": [
  {
   "cell_type": "markdown",
   "id": "b9cf414f",
   "metadata": {},
   "source": [
    "Q1: What is Estimation Statistics? Explain point estimate and interval estimate."
   ]
  },
  {
   "cell_type": "markdown",
   "id": "d7b10899",
   "metadata": {},
   "source": [
    "==>\n",
    "Estimation in statistics refers to the process of using sample data to make informed guesses about population parameters, such as means, proportions, or variances. Estimation helps us draw conclusions about a population based on information gathered from a smaller subset, known as a sample.\n",
    "\n",
    "There are two main types of estimation: point estimate and interval estimate.\n",
    "\n",
    "1)Point Estimate:\n",
    "\n",
    "\n",
    "A point estimate is a single numerical value that serves as an approximation or guess for an unknown population parameter. It is calculated from the sample data and is used as a \"best guess\" of the true parameter value. The most common point estimate for the population mean (μ) is the sample mean (x̄), and for the population proportion (p), the sample proportion (p̂) is often used.\n",
    "For example, if you want to estimate the average height of people in a city, you could calculate the average height of a sample of individuals from that city and use that value as the point estimate for the population mean.\n",
    "\n",
    "Point estimates are simple and easy to compute, but they don't provide any information about the uncertainty or variability of the estimate.\n",
    "\n",
    "2)Interval Estimate (Confidence Interval):\n",
    "\n",
    "\n",
    "An interval estimate, also known as a confidence interval, provides a range of values within which the true population parameter is likely to lie. Instead of giving a single point estimate, it gives a range of values and an associated level of confidence in the accuracy of that range.\n",
    "Confidence intervals are expressed with a lower and upper limit and are often associated with a confidence level (e.g., 95% confidence interval). This level indicates the probability that the true parameter lies within the given interval. The wider the interval, the higher the confidence level.\n",
    "\n",
    "For instance, a 95% confidence interval for the average height of people in a city might be 160 cm to 170 cm. This means that we are 95% confident that the true population mean falls within this interval based on the sample data."
   ]
  },
  {
   "cell_type": "code",
   "execution_count": null,
   "id": "5b571adb",
   "metadata": {},
   "outputs": [],
   "source": []
  },
  {
   "cell_type": "code",
   "execution_count": null,
   "id": "e95ce508",
   "metadata": {},
   "outputs": [],
   "source": [
    "Q2. Write a Python function to estimate the population mean using a sample mean and standard\n",
    "deviation."
   ]
  },
  {
   "cell_type": "code",
   "execution_count": 2,
   "id": "f3df8b07",
   "metadata": {},
   "outputs": [
    {
     "name": "stdout",
     "output_type": "stream",
     "text": [
      "Estimated Population Mean: 50.0\n"
     ]
    }
   ],
   "source": [
    "def estimate_population_mean(sample_mean, sample_std_dev, sample_size):\n",
    "   \n",
    "    estimated_population_mean = sample_mean * (sample_size ** 0.5) / sample_std_dev\n",
    "    return estimated_population_mean\n",
    "\n",
    "sample_mean = 50.0\n",
    "sample_std_dev = 10.0\n",
    "sample_size = 100\n",
    "estimated_mean = estimate_population_mean(sample_mean, sample_std_dev, sample_size)\n",
    "print(\"Estimated Population Mean:\", estimated_mean)\n"
   ]
  },
  {
   "cell_type": "code",
   "execution_count": null,
   "id": "40e63b1a",
   "metadata": {},
   "outputs": [],
   "source": []
  },
  {
   "cell_type": "markdown",
   "id": "2ede1c2d",
   "metadata": {},
   "source": [
    "Q3: What is Hypothesis testing? Why is it used? State the importance of Hypothesis testing."
   ]
  },
  {
   "cell_type": "markdown",
   "id": "ddf41ca6",
   "metadata": {},
   "source": [
    "==>\n",
    "Hypothesis testing is a fundamental concept in statistics that involves making decisions about population parameters based on sample data. It is a structured approach used to assess whether there is enough evidence in the data to support or reject a specific claim, assumption, or hypothesis about a population parameter.\n",
    "\n",
    "The general process of hypothesis testing involves the following steps:\n",
    "\n",
    "1. **Formulate Hypotheses:** There are two main hypotheses involved: the null hypothesis (denoted as H0) and the alternative hypothesis (denoted as Ha or H1). The null hypothesis represents a default assumption or claim that there is no significant effect or difference, while the alternative hypothesis contradicts the null hypothesis by suggesting there is a significant effect or difference.\n",
    "\n",
    "2. **Collect and Analyze Data:** Gather a sample of data relevant to the hypotheses. This data is used to assess whether the null hypothesis should be rejected.\n",
    "\n",
    "3. **Calculate Test Statistic:** Based on the data and the nature of the hypothesis, calculate a test statistic that quantifies the difference between the sample data and what is expected under the null hypothesis.\n",
    "\n",
    "4. **Determine the P-value:** The p-value is the probability of observing a test statistic as extreme as the one calculated, assuming that the null hypothesis is true. A smaller p-value suggests stronger evidence against the null hypothesis.\n",
    "\n",
    "5. **Make a Decision:** Compare the p-value to a predetermined significance level (often denoted as α). If the p-value is less than α, the results are considered statistically significant, and the null hypothesis is rejected in favor of the alternative hypothesis. If the p-value is greater than or equal to α, there is not enough evidence to reject the null hypothesis.\n",
    "\n",
    "6. **Draw Conclusions:** Based on the decision, draw conclusions about the population parameter and the hypotheses being tested.\n",
    "\n",
    "Importance of Hypothesis Testing:\n",
    "1. **Informed Decision Making:** Hypothesis testing provides a systematic and objective way to make decisions based on data. It helps researchers and decision-makers avoid making conclusions based on intuition or random chance.\n",
    "\n",
    "2. **Scientific Research:** Hypothesis testing is a cornerstone of scientific research. It allows researchers to test theories, validate hypotheses, and advance our understanding of various phenomena.\n",
    "\n",
    "3. **Quality Control and Process Improvement:** In industries, hypothesis testing is used to assess the quality of products and processes. It helps identify areas that need improvement and ensures that products meet specific standards.\n",
    "\n",
    "4. **Medical and Pharmaceutical Fields:** Hypothesis testing is crucial for assessing the effectiveness of new drugs or treatments. It helps determine whether a treatment has a significant impact compared to a placebo or existing treatment.\n",
    "\n",
    "5. **Policy and Decision-Making:** Hypothesis testing plays a role in policy evaluation, public health decisions, and economics. It provides a structured approach to assess the impact of policy changes or interventions.\n"
   ]
  },
  {
   "cell_type": "code",
   "execution_count": null,
   "id": "ed016945",
   "metadata": {},
   "outputs": [],
   "source": []
  },
  {
   "cell_type": "markdown",
   "id": "f05aa4aa",
   "metadata": {},
   "source": [
    "Q4. Create a hypothesis that states whether the average weight of male college students is greater than\n",
    "the average weight of female college students."
   ]
  },
  {
   "cell_type": "markdown",
   "id": "7c47e220",
   "metadata": {},
   "source": [
    "==>\n",
    "Hypothesis:\n",
    "Null Hypothesis (H0): The average weight of male college students is equal to or less than the average weight of female college students.\n",
    "Alternative Hypothesis (Ha): The average weight of male college students is greater than the average weight of female college students.\n",
    "\n",
    "Symbolically:\n",
    "H0: μ_male ≤ μ_female\n",
    "Ha: μ_male > μ_female\n",
    "\n",
    "In this hypothesis, μ_male represents the population average weight of male college students, and μ_female represents the population average weight of female college students.\n",
    "\n",
    "This hypothesis is formulated to test whether there is sufficient evidence to support the claim that male college students, on average, weigh more than female college students. The null hypothesis assumes that there is no significant difference in weight between male and female college students, while the alternative hypothesis suggests that male students have a higher average weight.\n",
    "\n",
    "To test this hypothesis, you would collect data on the weights of male and female college students, calculate the sample means for each group, and then use appropriate statistical methods to determine if there is enough evidence to reject the null hypothesis in favor of the alternative hypothesis."
   ]
  },
  {
   "cell_type": "code",
   "execution_count": null,
   "id": "02ce2738",
   "metadata": {},
   "outputs": [],
   "source": []
  },
  {
   "cell_type": "markdown",
   "id": "2ff39ca7",
   "metadata": {},
   "source": [
    "Q5. Write a Python script to conduct a hypothesis test on the difference between two population means,\n",
    "given a sample from each population."
   ]
  },
  {
   "cell_type": "code",
   "execution_count": 21,
   "id": "d3c7ae8c",
   "metadata": {},
   "outputs": [
    {
     "name": "stdout",
     "output_type": "stream",
     "text": [
      "t-statistic: 6.748852387406959\n",
      "p-value: 2.523237377038967e-06\n",
      "Degrees of Freedom: 18\n",
      "Reject the null hypothesis: There is a significant difference between the population means.\n"
     ]
    }
   ],
   "source": [
    "import numpy as np\n",
    "from scipy.stats import t\n",
    "\n",
    "def independent_samples_ttest(sample1, sample2, alpha=0.05, tails=2):\n",
    "   \n",
    "    n1 = len(sample1)\n",
    "    n2 = len(sample2)\n",
    "    dof = n1 + n2 - 2\n",
    "    \n",
    "    mean1 = np.mean(sample1)\n",
    "    mean2 = np.mean(sample2)\n",
    "    var1 = np.var(sample1, ddof=1)\n",
    "    var2 = np.var(sample2, ddof=1)\n",
    "    \n",
    "    pooled_var = ((n1 - 1) * var1 + (n2 - 1) * var2) / dof\n",
    "    \n",
    "    t_stat = (mean1 - mean2) / np.sqrt(pooled_var * (1/n1 + 1/n2))\n",
    "    \n",
    "    if tails == 2:\n",
    "        p_value = 2 * (1 - t.cdf(np.abs(t_stat), dof))\n",
    "    else:\n",
    "        p_value = 1 - t.cdf(np.abs(t_stat), dof)\n",
    "    \n",
    "    return t_stat, p_value, dof\n",
    "\n",
    "# Example usage\n",
    "sample1 = [65, 70, 72, 68, 73, 69, 67, 71, 66, 68]\n",
    "sample2 = [58, 63, 61, 65, 62, 60, 59, 64, 63, 61]\n",
    "\n",
    "\n",
    "alpha = 0.05\n",
    "t_stat, p_value, dof = independent_samples_ttest(sample1, sample2, alpha)\n",
    "\n",
    "print(\"t-statistic:\", t_stat)\n",
    "print(\"p-value:\", p_value)\n",
    "print(\"Degrees of Freedom:\", dof)\n",
    "\n",
    "if p_value < alpha:\n",
    "    print(\"Reject the null hypothesis: There is a significant difference between the population means.\")\n",
    "else:\n",
    "    print(\"Fail to reject the null hypothesis: There is no significant difference between the population means.\")\n",
    "#sum(sample1)\n",
    "#sum(sample2)"
   ]
  },
  {
   "cell_type": "code",
   "execution_count": null,
   "id": "cb311b03",
   "metadata": {},
   "outputs": [],
   "source": []
  },
  {
   "cell_type": "markdown",
   "id": "1904a304",
   "metadata": {},
   "source": [
    "Q6: What is a null and alternative hypothesis? Give some examples."
   ]
  },
  {
   "cell_type": "markdown",
   "id": "e195ec6d",
   "metadata": {},
   "source": [
    "==>\n",
    "In statistics, a null hypothesis (often denoted as H0) and an alternative hypothesis (often denoted as Ha or H1) are paired statements used to make hypotheses and draw conclusions based on data analysis. These hypotheses are formulated in the context of hypothesis testing, where you assess whether there is enough evidence in the data to support a particular claim or theory.\n",
    "\n",
    "1. **Example - Coin Toss:**\n",
    "\n",
    "   Null Hypothesis (H0): The coin is fair, and the probability of getting heads is 0.5.\n",
    "   Alternative Hypothesis (Ha): The coin is not fair, and the probability of getting heads is different from 0.5 (could be greater or less).\n",
    "\n",
    "   In this case, you might conduct a series of coin tosses and analyze the data to determine whether the coin is biased or fair.\n",
    "\n",
    "2. **Example - Drug Efficacy:**\n",
    "\n",
    "   Null Hypothesis (H0): The new drug is not significantly different from the existing treatment in terms of effectiveness.\n",
    "   Alternative Hypothesis (Ha): The new drug is significantly more effective than the existing treatment.\n",
    "\n",
    "   In this scenario, you would conduct a clinical trial to compare the new drug's effectiveness against the existing treatment and assess whether there's enough evidence to support switching to the new drug.\n",
    "\n",
    "3. **Example - A/B Testing:**\n",
    "\n",
    "   Null Hypothesis (H0): There is no difference in user engagement between version A and version B of the website.\n",
    "   Alternative Hypothesis (Ha): There is a significant difference in user engagement between version A and version B of the website.\n",
    "\n",
    "   In an A/B test, you might expose different groups of users to different versions of a website to determine which version performs better in terms of user engagement.\n",
    "\n",
    "The null hypothesis is typically a statement of no effect, no difference, or no relationship, while the alternative hypothesis presents the opposite view, suggesting a potential effect, difference, or relationship. The goal of hypothesis testing is to collect and analyze data in a way that allows you to either reject the null hypothesis in favor of the alternative hypothesis or fail to reject the null hypothesis due to insufficient evidence.\n",
    "\n"
   ]
  },
  {
   "cell_type": "code",
   "execution_count": null,
   "id": "b7f42fac",
   "metadata": {},
   "outputs": [],
   "source": []
  },
  {
   "cell_type": "markdown",
   "id": "ef387587",
   "metadata": {},
   "source": [
    "Q7: Write down the steps involved in hypothesis testing."
   ]
  },
  {
   "cell_type": "markdown",
   "id": "c5e94d07",
   "metadata": {},
   "source": [
    "==>\n",
    "Hypothesis testing involves a structured process to assess whether there is enough evidence in the data to support a particular claim or theory. Here are the general steps involved in hypothesis testing:\n",
    "\n",
    "1. **Formulate Hypotheses:**\n",
    "   - Null Hypothesis (H0): State the hypothesis of no effect, no difference, or no relationship.\n",
    "   - Alternative Hypothesis (Ha): State the hypothesis suggesting an effect, difference, or relationship.\n",
    "\n",
    "2. **Select Significance Level (Alpha):**\n",
    "   - Choose a significance level (often denoted as alpha, α), which represents the maximum acceptable probability of making a Type I error (incorrectly rejecting a true null hypothesis).\n",
    "   - Common choices for alpha are 0.05 or 0.01.\n",
    "\n",
    "3. **Collect and Analyze Data:**\n",
    "   - Gather relevant data through observations, experiments, surveys, etc.\n",
    "   - Perform necessary calculations and statistical analysis on the data.\n",
    "\n",
    "4. **Calculate Test Statistic:**\n",
    "   - Depending on the type of data and the hypothesis being tested, calculate a test statistic. This statistic helps quantify the difference or effect observed in the data.\n",
    "\n",
    "5. **Determine the Critical Region:**\n",
    "   - Based on the chosen significance level (alpha) and the distribution of the test statistic under the null hypothesis, determine the critical region(s).\n",
    "   - The critical region is the range of values of the test statistic that would lead to rejecting the null hypothesis.\n",
    "\n",
    "6. **Calculate P-value:**\n",
    "   - Calculate the p-value, which represents the probability of obtaining a test statistic as extreme as the one observed (or more extreme) under the assumption that the null hypothesis is true.\n",
    "   - A small p-value suggests that the observed data is unlikely under the null hypothesis.\n",
    "\n",
    "7. **Compare P-value and Alpha:**\n",
    "   - Compare the calculated p-value with the chosen significance level (alpha).\n",
    "   - If p-value ≤ alpha, you have strong evidence to reject the null hypothesis in favor of the alternative hypothesis.\n",
    "\n",
    "8. **Make a Decision:**\n",
    "   - If p-value ≤ alpha, reject the null hypothesis.\n",
    "   - If p-value > alpha, fail to reject the null hypothesis.\n",
    "\n",
    "9. **Draw a Conclusion:**\n",
    "   - Interpret the results in the context of the problem and hypothesis.\n",
    "   - State whether there is enough evidence to support the claim made in the alternative hypothesis.\n",
    "\n",
    "10. **Consider Practical Significance:**\n",
    "   - Even if a result is statistically significant, assess whether the observed effect or difference is practically significant and meaningful in the real-world context.\n",
    "\n",
    "11. **Report Findings:**\n",
    "   - Clearly communicate the results, including the decision to either reject or fail to reject the null hypothesis, along with any relevant statistics and interpretations.\n",
    "\n"
   ]
  },
  {
   "cell_type": "code",
   "execution_count": null,
   "id": "052dc8eb",
   "metadata": {},
   "outputs": [],
   "source": []
  },
  {
   "cell_type": "markdown",
   "id": "02e7829c",
   "metadata": {},
   "source": [
    "Q8. Define p-value and explain its significance in hypothesis testing."
   ]
  },
  {
   "cell_type": "markdown",
   "id": "811b61df",
   "metadata": {},
   "source": [
    "==>\n",
    "he p-value, short for \"probability value,\" is a fundamental concept in hypothesis testing that quantifies the strength of evidence against the null hypothesis. It helps determine whether the observed data provides enough evidence to support the alternative hypothesis or if the results are reasonably explained by chance variation under the null hypothesis.\n",
    "\n",
    "Here's a more detailed explanation of the p-value and its significance in hypothesis testing:\n",
    "\n",
    "Definition of p-value:\n",
    "The p-value is the probability of obtaining a test statistic as extreme as the one observed (or more extreme) under the assumption that the null hypothesis is true. In other words, it measures how likely it is to observe the given data if the null hypothesis is correct.\n",
    "\n",
    "Significance in Hypothesis Testing:\n",
    "The p-value serves as a critical tool in making decisions about hypothesis testing. Its main role is to help us decide whether to reject or fail to reject the null hypothesis based on the observed data. Here's how the p-value is used in this context:\n",
    "\n",
    "If the p-value is small (typically smaller than the chosen significance level, often denoted as alpha), it suggests that the observed data is unlikely to occur if the null hypothesis were true. This leads to the conclusion that the data provides strong evidence against the null hypothesis.\n",
    "\n",
    "In this case, the standard practice is to reject the null hypothesis in favor of the alternative hypothesis. This means you believe there's sufficient evidence to support the claim or theory proposed in the alternative hypothesis.\n",
    "If the p-value is large (greater than alpha), it suggests that the observed data could reasonably occur even if the null hypothesis were true. This indicates that the data is not providing strong evidence against the null hypothesis.\n",
    "\n",
    "In this case, you would fail to reject the null hypothesis. This means that you don't have enough evidence to support the alternative hypothesis, and you can't make a strong claim based on the observed data."
   ]
  },
  {
   "cell_type": "code",
   "execution_count": null,
   "id": "0741a39e",
   "metadata": {},
   "outputs": [],
   "source": []
  },
  {
   "cell_type": "markdown",
   "id": "6b83c45d",
   "metadata": {},
   "source": [
    "Q9. Generate a Student's t-distribution plot using Python's matplotlib library, with the degrees of freedom\n",
    "parameter set to 10."
   ]
  },
  {
   "cell_type": "code",
   "execution_count": 1,
   "id": "99350972",
   "metadata": {},
   "outputs": [
    {
     "data": {
      "image/png": "[encoded data removed]",
      "text/plain": [
       "<Figure size 800x600 with 1 Axes>"
      ]
     },
     "metadata": {},
     "output_type": "display_data"
    }
   ],
   "source": [
    "import numpy as np\n",
    "import matplotlib.pyplot as plt\n",
    "from scipy.stats import t\n",
    "\n",
    "# Degrees of freedom\n",
    "degrees_of_freedom = 10\n",
    "\n",
    "# Generate x values for the plot\n",
    "x = np.linspace(-5, 5, 500)\n",
    "\n",
    "# Calculate the corresponding y values using the t-distribution\n",
    "y = t.pdf(x, df=degrees_of_freedom)\n",
    "\n",
    "# Create the plot\n",
    "plt.figure(figsize=(8, 6))\n",
    "plt.plot(x, y, label=f\"Degrees of Freedom = {degrees_of_freedom}\")\n",
    "plt.title(\"Student's t-Distribution\")\n",
    "plt.xlabel(\"x\")\n",
    "plt.ylabel(\"Probability Density\")\n",
    "plt.legend()\n",
    "plt.grid(True)\n",
    "plt.show()\n"
   ]
  },
  {
   "cell_type": "code",
   "execution_count": null,
   "id": "36d04a2b",
   "metadata": {},
   "outputs": [],
   "source": []
  },
  {
   "cell_type": "markdown",
   "id": "431caed5",
   "metadata": {},
   "source": [
    "Q10. Write a Python program to calculate the two-sample t-test for independent samples, given two\n",
    "random samples of equal size and a null hypothesis that the population means are equal."
   ]
  },
  {
   "cell_type": "code",
   "execution_count": 2,
   "id": "e3ecfa62",
   "metadata": {},
   "outputs": [
    {
     "name": "stdout",
     "output_type": "stream",
     "text": [
      "Sample 1 mean: 48.118531041489625\n",
      "Sample 2 mean: 53.788375297100565\n",
      "t-statistic: -2.3981151520102415\n",
      "p-value: 0.019717941865758228\n",
      "Reject the null hypothesis: Population means are not equal.\n"
     ]
    }
   ],
   "source": [
    "import numpy as np\n",
    "from scipy.stats import ttest_ind\n",
    "\n",
    "# Generate two random samples\n",
    "sample_size = 30\n",
    "np.random.seed(42)\n",
    "sample1 = np.random.normal(loc=50, scale=10, size=sample_size)\n",
    "sample2 = np.random.normal(loc=55, scale=10, size=sample_size)\n",
    "\n",
    "# Perform two-sample t-test\n",
    "t_statistic, p_value = ttest_ind(sample1, sample2)\n",
    "\n",
    "# Define significance level (alpha)\n",
    "alpha = 0.05\n",
    "\n",
    "# Print the results\n",
    "print(\"Sample 1 mean:\", np.mean(sample1))\n",
    "print(\"Sample 2 mean:\", np.mean(sample2))\n",
    "print(\"t-statistic:\", t_statistic)\n",
    "print(\"p-value:\", p_value)\n",
    "\n",
    "# Determine whether to reject the null hypothesis\n",
    "if p_value < alpha:\n",
    "    print(\"Reject the null hypothesis: Population means are not equal.\")\n",
    "else:\n",
    "    print(\"Fail to reject the null hypothesis: Population means are equal.\")\n"
   ]
  },
  {
   "cell_type": "code",
   "execution_count": null,
   "id": "a1b5abb7",
   "metadata": {},
   "outputs": [],
   "source": []
  },
  {
   "cell_type": "code",
   "execution_count": null,
   "id": "890e8cd9",
   "metadata": {},
   "outputs": [],
   "source": [
    "Q11: What is Student’s t distribution? When to use the t-Distribution."
   ]
  },
  {
   "cell_type": "markdown",
   "id": "f505adc7",
   "metadata": {},
   "source": [
    "==>\n",
    "\n",
    "The Student's t-distribution, often simply referred to as the t-distribution, is a probability distribution that is used in statistical inference to analyze small sample sizes when the population standard deviation is unknown. It is a fundamental tool in hypothesis testing, confidence interval estimation, and other statistical analyses.\n",
    "\n",
    "The t-distribution arises from the fact that when working with small sample sizes, the sampling distribution of the sample mean (or other sample statistics) tends to have greater variability compared to larger sample sizes. The t-distribution has heavier tails than the standard normal (Z) distribution, which makes it more suitable for handling uncertainty in small sample data.\n",
    "\n",
    "The t-distribution is characterized by its degrees of freedom, which determine its shape. As the degrees of freedom increase, the t-distribution approaches the standard normal distribution.\n",
    "\n",
    "When to Use the t-Distribution:\n",
    "\n",
    "The t-distribution is used in scenarios where the following conditions are met:\n",
    "\n",
    "Small Sample Size: The sample size is small, typically with fewer than 30 observations. In cases of larger sample sizes (above 30), the t-distribution closely approximates the standard normal distribution, and using the Z-test is more appropriate.\n",
    "\n",
    "Unknown Population Standard Deviation: When the population standard deviation is unknown, the t-distribution is used to account for the extra uncertainty introduced by estimating the population standard deviation from the sample data.\n",
    "\n",
    "The t-distribution is commonly used for the following purposes:\n",
    "\n",
    "Hypothesis Testing: When testing hypotheses about population means based on small samples, the t-distribution is used to calculate critical values and p-values.\n",
    "\n",
    "Confidence Intervals: When constructing confidence intervals for population means from small samples, the t-distribution is used to account for the uncertainty associated with estimating the population parameter."
   ]
  },
  {
   "cell_type": "code",
   "execution_count": null,
   "id": "9d882551",
   "metadata": {},
   "outputs": [],
   "source": []
  },
  {
   "cell_type": "code",
   "execution_count": null,
   "id": "6f2dc23f",
   "metadata": {},
   "outputs": [],
   "source": [
    "Q12: What is t-statistic? State the formula for t-statistic."
   ]
  },
  {
   "cell_type": "markdown",
   "id": "558314c8",
   "metadata": {},
   "source": [
    "==>\n",
    "The t-statistic, also known as the t-value, is a statistical measure used in hypothesis testing to determine if there is a significant difference between the means of two groups. It is commonly employed when working with small sample sizes or when the population standard deviation is unknown. The t-statistic is used in t-tests, which are statistical tests that help evaluate whether the difference between sample means is statistically significant.\n",
    "\n",
    "The formula for calculating the t-statistic in the context of a two-sample t-test is as follows:\n",
    "\n",
    "\\[t = \\frac{{\\bar{x}_1 - \\bar{x}_2}}{{\\sqrt{\\frac{{s_1^2}}{{n_1}} + \\frac{{s_2^2}}{{n_2}}}}}\\]\n",
    "\n",
    "Where:\n",
    "- \\(\\bar{x}_1\\) and \\(\\bar{x}_2\\) are the sample means of the two groups being compared.\n",
    "- \\(s_1\\) and \\(s_2\\) are the sample standard deviations of the two groups.\n",
    "- \\(n_1\\) and \\(n_2\\) are the sample sizes of the two groups.\n",
    "\n",
    "In the formula, \\(\\bar{x}_1 - \\bar{x}_2\\) represents the difference in sample means, and the denominator represents the standard error of the difference in means. The t-statistic measures how many standard errors the sample mean difference is away from zero. A larger absolute value of the t-statistic indicates a larger difference between the sample means and suggests stronger evidence against the null hypothesis (which assumes no difference between the population means).\n",
    "\n",
    "\n"
   ]
  },
  {
   "cell_type": "code",
   "execution_count": null,
   "id": "a25c061c",
   "metadata": {},
   "outputs": [],
   "source": []
  },
  {
   "cell_type": "markdown",
   "id": "22330565",
   "metadata": {},
   "source": [
    "Q13. A coffee shop owner wants to estimate the average daily revenue for their shop. They take a random\n",
    "sample of 50 days and find the sample mean revenue to be $500 with a standard deviation of $50.\n",
    "Estimate the population mean revenue with a 95% confidence interval."
   ]
  },
  {
   "cell_type": "markdown",
   "id": "bc88c0dd",
   "metadata": {},
   "source": [
    "==>\n",
    "To estimate the population mean revenue with a 95% confidence interval, you can use the formula for the confidence interval for a population mean when you have a sample mean, sample standard deviation, sample size, and assuming the data is approximately normally distributed. The formula for the confidence interval is:\n",
    "\n",
    "\\[ \\text{Confidence Interval} = \\bar{x} \\pm \\left( \\frac{Z \\cdot \\sigma}{\\sqrt{n}} \\right) \\]\n",
    "\n",
    "Where:\n",
    "- \\(\\bar{x}\\) is the sample mean revenue.\n",
    "- \\(Z\\) is the critical value for the desired confidence level (in this case, for a 95% confidence level).\n",
    "- \\(\\sigma\\) is the population standard deviation (which we estimate with the sample standard deviation when it's not known).\n",
    "- \\(n\\) is the sample size.\n",
    "\n",
    "Given the information you provided:\n",
    "- Sample mean (\\(\\bar{x}\\)) = $500\n",
    "- Sample standard deviation (\\(s\\)) = $50\n",
    "- Sample size (\\(n\\)) = 50\n",
    "- Desired confidence level = 95%\n",
    "\n",
    "First, you need to find the critical value (\\(Z\\)) for a 95% confidence level. You can look up this value in a standard normal distribution table or use a calculator or software. For a 95% confidence level, \\(Z\\) is approximately 1.96.\n",
    "\n",
    "Now, plug the values into the formula:\n",
    "\n",
    "\\[ \\text{Confidence Interval} = 500 \\pm \\left( \\frac{1.96 \\cdot 50}{\\sqrt{50}} \\right) \\]\n",
    "\n",
    "Calculate the values within the parentheses:\n",
    "\n",
    "\\[ \\text{Confidence Interval} = 500 \\pm \\left( \\frac{98}{\\sqrt{50}} \\right) \\]\n",
    "\n",
    "Now, calculate the standard error:\n",
    "\n",
    "\\[ \\text{Standard Error} = \\frac{98}{\\sqrt{50}} \\approx 13.88 \\]\n",
    "\n",
    "Finally, calculate the confidence interval:\n",
    "\n",
    "\\[ \\text{Confidence Interval} = 500 \\pm 13.88 \\]\n",
    "\n",
    "So, the 95% confidence interval for the population mean daily revenue is approximately:\n",
    "\n",
    "\\[ \\$500 \\pm \\$13.88 \\]\n",
    "\n",
    "This means you can be 95% confident that the true population mean revenue falls within the range of approximately $486.12 to $513.88."
   ]
  },
  {
   "cell_type": "code",
   "execution_count": null,
   "id": "c3808b01",
   "metadata": {},
   "outputs": [],
   "source": []
  },
  {
   "cell_type": "code",
   "execution_count": null,
   "id": "13ecc0f6",
   "metadata": {},
   "outputs": [],
   "source": [
    "Q14. A researcher hypothesizes that a new drug will decrease blood pressure by 10 mmHg. They conduct a\n",
    "clinical trial with 100 patients and find that the sample mean decrease in blood pressure is 8 mmHg with a\n",
    "standard deviation of 3 mmHg. Test the hypothesis with a significance level of 0.05."
   ]
  },
  {
   "cell_type": "markdown",
   "id": "05b0f142",
   "metadata": {},
   "source": [
    "==>\n",
    "To test the hypothesis that the new drug decreases blood pressure by 10 mmHg, you can perform a one-sample t-test. The null hypothesis (\\(H_0\\)) is that the drug does not decrease blood pressure by 10 mmHg (\\(μ = 10\\)), and the alternative hypothesis (\\(H_1\\)) is that the drug does decrease blood pressure by 10 mmHg (\\(μ < 10\\)).\n",
    "\n",
    "Here are the given values:\n",
    "- Sample mean decrease in blood pressure (\\(\\bar{x}\\)) = 8 mmHg\n",
    "- Sample standard deviation (\\(s\\)) = 3 mmHg\n",
    "- Sample size (\\(n\\)) = 100\n",
    "- Significance level (\\(α\\)) = 0.05\n",
    "\n",
    "The formula for the t-statistic in a one-sample t-test is:\n",
    "\n",
    "\\[ t = \\frac{(\\bar{x} - μ)}{\\left(\\frac{s}{\\sqrt{n}}\\right)} \\]\n",
    "\n",
    "Substitute the given values:\n",
    "\n",
    "\\[ t = \\frac{(8 - 10)}{\\left(\\frac{3}{\\sqrt{100}}\\right)} \\]\n",
    "\n",
    "Calculate the values within the parentheses:\n",
    "\n",
    "\\[ t = \\frac{-2}{\\left(\\frac{3}{10}\\right)} \\]\n",
    "\n",
    "Now, calculate the t-statistic:\n",
    "\n",
    "\\[ t = \\frac{-2}{0.3} = -6.67 \\]\n",
    "\n",
    "Now, you need to find the critical t-value for a one-tailed test at a significance level of 0.05 with 99 degrees of freedom (since \\(n - 1 = 99\\)). You can look up this value in a t-distribution table or use a calculator or software. For a one-tailed test at a significance level of 0.05, the critical t-value is approximately -1.660.\n",
    "\n",
    "Since the calculated t-statistic (-6.67) is less than the critical t-value (-1.660), you reject the null hypothesis.\n",
    "\n",
    "Therefore, at a significance level of 0.05, you have enough evidence to conclude that the new drug does decrease blood pressure by more than 10 mmHg, as the sample mean decrease in blood pressure is significantly less than 10 mmHg."
   ]
  },
  {
   "cell_type": "code",
   "execution_count": null,
   "id": "c5d3c9e1",
   "metadata": {},
   "outputs": [],
   "source": []
  },
  {
   "cell_type": "code",
   "execution_count": null,
   "id": "b56ac311",
   "metadata": {},
   "outputs": [],
   "source": [
    "Q15. An electronics company produces a certain type of product with a mean weight of 5 pounds and a\n",
    "standard deviation of 0.5 pounds. A random sample of 25 products is taken, and the sample mean weight\n",
    "is found to be 4.8 pounds. Test the hypothesis that the true mean weight of the products is less than 5\n",
    "pounds with a significance level of 0.01."
   ]
  },
  {
   "cell_type": "markdown",
   "id": "a416ad91",
   "metadata": {},
   "source": [
    "==>\n",
    "To test the hypothesis that the true mean weight of the products is less than 5 pounds, you can perform a one-sample t-test for a population mean with a one-tailed test. In this case, the null hypothesis (\\(H_0\\)) is that the true mean weight is equal to 5 pounds (\\(μ = 5\\)), and the alternative hypothesis (\\(H_1\\)) is that the true mean weight is less than 5 pounds (\\(μ < 5\\)).\n",
    "\n",
    "Here are the given values:\n",
    "- Population mean weight (\\(μ\\)) = 5 pounds\n",
    "- Population standard deviation (\\(σ\\)) = 0.5 pounds\n",
    "- Sample size (\\(n\\)) = 25\n",
    "- Sample mean weight (\\(\\bar{x}\\)) = 4.8 pounds\n",
    "- Significance level (\\(α\\)) = 0.01\n",
    "\n",
    "First, calculate the standard error of the sample mean using the formula:\n",
    "\n",
    "\\[ \\text{Standard Error} = \\frac{σ}{\\sqrt{n}} \\]\n",
    "\n",
    "Substitute the values:\n",
    "\n",
    "\\[ \\text{Standard Error} = \\frac{0.5}{\\sqrt{25}} = 0.1 \\]\n",
    "\n",
    "Now, calculate the t-statistic using the formula for a one-sample t-test:\n",
    "\n",
    "\\[ t = \\frac{(\\bar{x} - μ)}{\\text{Standard Error}} \\]\n",
    "\n",
    "Substitute the values:\n",
    "\n",
    "\\[ t = \\frac{(4.8 - 5)}{0.1} = -2 \\]\n",
    "\n",
    "Now, you need to find the critical t-value for a one-tailed test at a significance level of 0.01 with 24 degrees of freedom (since \\(n - 1 = 24\\)). You can look up this value in a t-distribution table or use a calculator or software. For a one-tailed test at a significance level of 0.01 with 24 degrees of freedom, the critical t-value is approximately -2.492.\n",
    "\n",
    "Since the calculated t-statistic (-2) is greater than the critical t-value (-2.492), you fail to reject the null hypothesis.\n",
    "\n",
    "Therefore, at a significance level of 0.01, there is not enough evidence to conclude that the true mean weight of the products is less than 5 pounds."
   ]
  },
  {
   "cell_type": "code",
   "execution_count": null,
   "id": "5898d6e8",
   "metadata": {},
   "outputs": [],
   "source": []
  },
  {
   "cell_type": "code",
   "execution_count": null,
   "id": "8ae7ff01",
   "metadata": {},
   "outputs": [],
   "source": [
    "Q16. Two groups of students are given different study materials to prepare for a test. The first group (n1 =\n",
    "30) has a mean score of 80 with a standard deviation of 10, and the second group (n2 = 40) has a mean\n",
    "score of 75 with a standard deviation of 8. Test the hypothesis that the population means for the two\n",
    "groups are equal with a significance level of 0.01."
   ]
  },
  {
   "cell_type": "markdown",
   "id": "eb37647a",
   "metadata": {},
   "source": [
    "==>\n",
    "To test the hypothesis that the population means for the two groups are equal, you can perform an independent two-sample t-test. The null hypothesis (\\(H_0\\)) is that the population means are equal (\\(μ_1 = μ_2\\)), and the alternative hypothesis (\\(H_1\\)) is that the population means are not equal (\\(μ_1 ≠ μ_2\\)).\n",
    "\n",
    "Here are the given values for each group:\n",
    "For Group 1:\n",
    "- Sample size (\\(n_1\\)) = 30\n",
    "- Sample mean score (\\(\\bar{x}_1\\)) = 80\n",
    "- Sample standard deviation (\\(s_1\\)) = 10\n",
    "\n",
    "For Group 2:\n",
    "- Sample size (\\(n_2\\)) = 40\n",
    "- Sample mean score (\\(\\bar{x}_2\\)) = 75\n",
    "- Sample standard deviation (\\(s_2\\)) = 8\n",
    "\n",
    "Significance level (\\(α\\)) = 0.01\n",
    "\n",
    "First, calculate the pooled standard error using the formula:\n",
    "\n",
    "\\[ \\text{Pooled Standard Error} = \\sqrt{\\frac{{(n_1 - 1)s_1^2 + (n_2 - 1)s_2^2}}{{n_1 + n_2 - 2}}} \\]\n",
    "\n",
    "Substitute the values:\n",
    "\n",
    "\\[ \\text{Pooled Standard Error} = \\sqrt{\\frac{{(30 - 1) \\cdot 10^2 + (40 - 1) \\cdot 8^2}}{{30 + 40 - 2}}} \\]\n",
    "\n",
    "\\[ \\text{Pooled Standard Error} = \\sqrt{\\frac{{29 \\cdot 100 + 39 \\cdot 64}}{{68}}} \\]\n",
    "\n",
    "\\[ \\text{Pooled Standard Error} = \\sqrt{\\frac{{2900 + 2496}}{{68}}} \\]\n",
    "\n",
    "\\[ \\text{Pooled Standard Error} = \\sqrt{\\frac{{5396}}{{68}}} \\]\n",
    "\n",
    "\\[ \\text{Pooled Standard Error} ≈ 5.17 \\]\n",
    "\n",
    "Now, calculate the t-statistic using the formula for a two-sample t-test:\n",
    "\n",
    "\\[ t = \\frac{{(\\bar{x}_1 - \\bar{x}_2)}}{{\\text{Pooled Standard Error}}} \\]\n",
    "\n",
    "Substitute the values:\n",
    "\n",
    "\\[ t = \\frac{{(80 - 75)}}{{5.17}} \\]\n",
    "\n",
    "\\[ t = \\frac{{5}}{{5.17}} \\]\n",
    "\n",
    "\\[ t ≈ 0.97 \\]\n",
    "\n",
    "Now, you need to find the critical t-value for a two-tailed test at a significance level of 0.01 with degrees of freedom equal to \\(n_1 + n_2 - 2\\). You can look up this value in a t-distribution table or use a calculator or software. The critical t-value for a two-tailed test at 0.01 significance level with 68 degrees of freedom is approximately ±2.617.\n",
    "\n",
    "Since the calculated t-statistic (0.97) is within the range of -2.617 to 2.617, you fail to reject the null hypothesis.\n",
    "\n",
    "Therefore, at a significance level of 0.01, there is not enough evidence to conclude that the population means for the two groups are different."
   ]
  },
  {
   "cell_type": "code",
   "execution_count": null,
   "id": "d56bc615",
   "metadata": {},
   "outputs": [],
   "source": []
  },
  {
   "cell_type": "markdown",
   "id": "c55a3c3c",
   "metadata": {},
   "source": [
    "Q17. A marketing company wants to estimate the average number of ads watched by viewers during a TV\n",
    "program. They take a random sample of 50 viewers and find that the sample mean is 4 with a standard\n",
    "deviation of 1.5. Estimate the population mean with a 99% confidence interval."
   ]
  },
  {
   "cell_type": "markdown",
   "id": "667ad8b3",
   "metadata": {},
   "source": [
    "==>\n",
    "To test the hypothesis that the population means for the two groups are equal, you can perform a two-sample t-test for independent samples. In this case, the null hypothesis (\\(H_0\\)) is that the population means are equal (\\(μ_1 = μ_2\\)), and the alternative hypothesis (\\(H_1\\)) is that the population means are not equal (\\(μ_1 ≠ μ_2\\)).\n",
    "\n",
    "Here are the given values for each group:\n",
    "\n",
    "**Group 1:**\n",
    "- Sample size (\\(n_1\\)) = 30\n",
    "- Sample mean (\\(\\bar{x}_1\\)) = 80\n",
    "- Sample standard deviation (\\(s_1\\)) = 10\n",
    "\n",
    "**Group 2:**\n",
    "- Sample size (\\(n_2\\)) = 40\n",
    "- Sample mean (\\(\\bar{x}_2\\)) = 75\n",
    "- Sample standard deviation (\\(s_2\\)) = 8\n",
    "\n",
    "Significance level (\\(α\\)) = 0.01\n",
    "\n",
    "First, calculate the pooled standard deviation (\\(s_p\\)) for the two groups using the following formula:\n",
    "\n",
    "\\[ s_p = \\sqrt{\\frac{(n_1 - 1)s_1^2 + (n_2 - 1)s_2^2}{n_1 + n_2 - 2}} \\]\n",
    "\n",
    "Substitute the values:\n",
    "\n",
    "\\[ s_p = \\sqrt{\\frac{(30 - 1)(10^2) + (40 - 1)(8^2)}{30 + 40 - 2}} \\]\n",
    "\n",
    "Calculate \\(s_p\\):\n",
    "\n",
    "\\[ s_p = \\sqrt{\\frac{(29)(100) + (39)(64)}{68}} \\]\n",
    "\\[ s_p = \\sqrt{\\frac{2900 + 2496}{68}} \\]\n",
    "\\[ s_p = \\sqrt{\\frac{5396}{68}} \\]\n",
    "\\[ s_p \\approx \\sqrt{79.35} \\]\n",
    "\\[ s_p \\approx 8.92 \\]\n",
    "\n",
    "Now, calculate the t-statistic using the formula for a two-sample t-test:\n",
    "\n",
    "\\[ t = \\frac{(\\bar{x}_1 - \\bar{x}_2)}{\\sqrt{\\frac{s_1^2}{n_1} + \\frac{s_2^2}{n_2}}} \\]\n",
    "\n",
    "Substitute the values:\n",
    "\n",
    "\\[ t = \\frac{(80 - 75)}{\\sqrt{\\frac{10^2}{30} + \\frac{8^2}{40}}} \\]\n",
    "\n",
    "Calculate \\(t\\):\n",
    "\n",
    "\\[ t = \\frac{5}{\\sqrt{\\frac{100}{30} + \\frac{64}{40}}} \\]\n",
    "\\[ t = \\frac{5}{\\sqrt{3.333 + 1.6}} \\]\n",
    "\\[ t = \\frac{5}{\\sqrt{4.933}} \\]\n",
    "\\[ t \\approx \\frac{5}{2.22} \\]\n",
    "\\[ t \\approx 2.25 \\]\n",
    "\n",
    "Now, you need to find the critical t-value for a two-tailed test at a significance level of 0.01 with degrees of freedom (\\(df\\)) equal to \\(n_1 + n_2 - 2\\). In this case, \\(df = 30 + 40 - 2 = 68\\). You can look up this value in a t-distribution table or use a calculator or software.\n",
    "\n",
    "For a two-tailed test at a significance level of 0.01 with 68 degrees of freedom, the critical t-value is approximately ±2.616 (since it's a two-tailed test, we consider both positive and negative critical values).\n",
    "\n",
    "Since the calculated t-statistic (2.25) is less than the absolute value of the critical t-value (2.616), you fail to reject the null hypothesis.\n",
    "\n",
    "Therefore, at a significance level of 0.01, there is not enough evidence to conclude that the population means for the two groups are different; you cannot reject the null hypothesis that the means are equal."
   ]
  }
 ],
 "metadata": {
  "kernelspec": {
   "display_name": "Python 3 (ipykernel)",
   "language": "python",
   "name": "python3"
  },
  "language_info": {
   "codemirror_mode": {
    "name": "ipython",
    "version": 3
   },
   "file_extension": ".py",
   "mimetype": "text/x-python",
   "name": "python",
   "nbconvert_exporter": "python",
   "pygments_lexer": "ipython3",
   "version": "3.10.9"
  }
 },
 "nbformat": 4,
 "nbformat_minor": 5
}
